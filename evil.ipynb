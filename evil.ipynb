{
 "cells": [
  {
   "cell_type": "code",
   "execution_count": 2,
   "metadata": {},
   "outputs": [
    {
     "name": "stdout",
     "output_type": "stream",
     "text": [
      "{10: ['Маринетт', 'Эдриан'], 9: ['Аля'], 8: ['Нино']}\n"
     ]
    }
   ],
   "source": [
    "a = {'Маринетт':10, 'Эдриан':10, 'Аля':9, 'Нино':8}\n",
    "b = {}\n",
    "for i in a:\n",
    "    if a[i] not in b:\n",
    "        b[a[i]]=[]\n",
    "    b[a[i]].append(i)\n",
    "print(b)"
   ]
  },
  {
   "cell_type": "code",
   "execution_count": 3,
   "metadata": {},
   "outputs": [],
   "source": [
    "def akuma(num):\n",
    "    ciforki = {'M':1000,'D':500,'C':100,'L':50,'X':10,'V':5,'I':1,'O':0}\n",
    "    a = 0\n",
    "    num += 'O'\n",
    "    b = ciforki[num[0]]\n",
    "    for i in range(1, len(num)):\n",
    "        if b >= ciforki[num[i]]:\n",
    "            a += b\n",
    "        if b < ciforki[num[i]]:\n",
    "            a -= b\n",
    "        b = ciforki[num[i]]\n",
    "    return a"
   ]
  },
  {
   "cell_type": "code",
   "execution_count": 4,
   "metadata": {},
   "outputs": [
    {
     "data": {
      "text/plain": [
       "45"
      ]
     },
     "execution_count": 4,
     "metadata": {},
     "output_type": "execute_result"
    }
   ],
   "source": [
    "akuma('VL')"
   ]
  },
  {
   "cell_type": "code",
   "execution_count": 5,
   "metadata": {},
   "outputs": [
    {
     "data": {
      "text/plain": [
       "1104"
      ]
     },
     "execution_count": 5,
     "metadata": {},
     "output_type": "execute_result"
    }
   ],
   "source": [
    "akuma('MCIV')"
   ]
  },
  {
   "cell_type": "code",
   "execution_count": null,
   "metadata": {},
   "outputs": [],
   "source": []
  }
 ],
 "metadata": {
  "kernelspec": {
   "display_name": "Python 3",
   "language": "python",
   "name": "python3"
  },
  "language_info": {
   "codemirror_mode": {
    "name": "ipython",
    "version": 3
   },
   "file_extension": ".py",
   "mimetype": "text/x-python",
   "name": "python",
   "nbconvert_exporter": "python",
   "pygments_lexer": "ipython3",
   "version": "3.7.1"
  }
 },
 "nbformat": 4,
 "nbformat_minor": 2
}
